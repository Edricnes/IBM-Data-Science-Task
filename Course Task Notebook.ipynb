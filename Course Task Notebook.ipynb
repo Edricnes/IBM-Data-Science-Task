{
 "cells": [
  {
   "cell_type": "markdown",
   "id": "6cb03b2d-c426-4a85-954c-074411589685",
   "metadata": {},
   "source": [
    "# My Jupyter Notebook on IBM Watson Studio"
   ]
  },
  {
   "cell_type": "markdown",
   "id": "5ee346d7-6e24-49b0-a7b6-4f8ac03db89e",
   "metadata": {},
   "source": [
    "__Edricnes__ <br>\n",
    "My desired occupation is to be a data scientist, analyst, consultant or fields that involve data driven business intelligence <br>\n",
    "Also this markdown and the next have no header styling"
   ]
  },
  {
   "cell_type": "markdown",
   "id": "8965b289-0691-4836-85c7-09ea419712a9",
   "metadata": {},
   "source": [
    "_I am interested in data science because the field fascinates me very much. From the wide array of applications, the importance of it, the constant innovation and improvement in the field, it just is interesting._\n",
    "<br>\n",
    "_I for one love playing with numbers, but I hate the job prospects and the unfair treatment my background education, civil engineers get in my country_"
   ]
  },
  {
   "cell_type": "markdown",
   "id": "ab462998-bcbc-42d2-a00a-80f139d6735e",
   "metadata": {},
   "source": [
    "### The code below shows the simple way to make a dataframe from a dictionary"
   ]
  },
  {
   "cell_type": "code",
   "execution_count": 7,
   "id": "e41fe15e-aa91-4f14-99a4-18dba2cdc6aa",
   "metadata": {},
   "outputs": [
    {
     "data": {
      "text/html": [
       "<div>\n",
       "<style scoped>\n",
       "    .dataframe tbody tr th:only-of-type {\n",
       "        vertical-align: middle;\n",
       "    }\n",
       "\n",
       "    .dataframe tbody tr th {\n",
       "        vertical-align: top;\n",
       "    }\n",
       "\n",
       "    .dataframe thead th {\n",
       "        text-align: right;\n",
       "    }\n",
       "</style>\n",
       "<table border=\"1\" class=\"dataframe\">\n",
       "  <thead>\n",
       "    <tr style=\"text-align: right;\">\n",
       "      <th></th>\n",
       "      <th>Diameter</th>\n",
       "      <th>n_topping</th>\n",
       "      <th>Price</th>\n",
       "    </tr>\n",
       "  </thead>\n",
       "  <tbody>\n",
       "    <tr>\n",
       "      <th>0</th>\n",
       "      <td>6</td>\n",
       "      <td>2</td>\n",
       "      <td>7.0</td>\n",
       "    </tr>\n",
       "    <tr>\n",
       "      <th>1</th>\n",
       "      <td>8</td>\n",
       "      <td>1</td>\n",
       "      <td>9.0</td>\n",
       "    </tr>\n",
       "    <tr>\n",
       "      <th>2</th>\n",
       "      <td>10</td>\n",
       "      <td>0</td>\n",
       "      <td>13.0</td>\n",
       "    </tr>\n",
       "    <tr>\n",
       "      <th>3</th>\n",
       "      <td>14</td>\n",
       "      <td>2</td>\n",
       "      <td>17.5</td>\n",
       "    </tr>\n",
       "    <tr>\n",
       "      <th>4</th>\n",
       "      <td>18</td>\n",
       "      <td>0</td>\n",
       "      <td>18.0</td>\n",
       "    </tr>\n",
       "  </tbody>\n",
       "</table>\n",
       "</div>"
      ],
      "text/plain": [
       "   Diameter  n_topping  Price\n",
       "0         6          2    7.0\n",
       "1         8          1    9.0\n",
       "2        10          0   13.0\n",
       "3        14          2   17.5\n",
       "4        18          0   18.0"
      ]
     },
     "execution_count": 7,
     "metadata": {},
     "output_type": "execute_result"
    }
   ],
   "source": [
    "import pandas as pd\n",
    "pizza = {'Diameter': [6, 8, 10, 14, 18], 'n_topping': [2, 1, 0, 2, 0], 'Price': [7, 9, 13, 17.5, 18]}\n",
    "pizza_df = pd.DataFrame(pizza)\n",
    "pizza_df"
   ]
  },
  {
   "cell_type": "markdown",
   "id": "1bd40427-c16f-4005-b0d9-a3edc75b47b4",
   "metadata": {},
   "source": [
    "<p style=\"text-align:center\">\n",
    "    <a href=\"https://github.com/\" target=\"_blank\">\n",
    "    <img src=\"https://upload.wikimedia.org/wikipedia/commons/thumb/8/8a/Banana-Single.jpg/2324px-Banana-Single.jpg\" width=\"200\" alt=\"Banana\"  />\n",
    "    </a>\n",
    "</p>\n",
    "\n",
    "| Date (YYYY-MM-DD) | Time | My Friends    | What is This                 |\n",
    "| ----------------- | ------- | ------------- | ---------------------------------- |\n",
    "| 2022-06-24        | 3.0     | Aldy, Randall  | A Task of the Course  \n",
    "## <h3 align=\"center\"> Edricnes, a Bachelor of Engineering <h3/>"
   ]
  },
  {
   "cell_type": "code",
   "execution_count": null,
   "id": "55430f9b-d130-42cb-b96a-53a6673a669b",
   "metadata": {},
   "outputs": [],
   "source": []
  }
 ],
 "metadata": {
  "kernelspec": {
   "display_name": "Python 3 (ipykernel)",
   "language": "python",
   "name": "python3"
  },
  "language_info": {
   "codemirror_mode": {
    "name": "ipython",
    "version": 3
   },
   "file_extension": ".py",
   "mimetype": "text/x-python",
   "name": "python",
   "nbconvert_exporter": "python",
   "pygments_lexer": "ipython3",
   "version": "3.9.12"
  }
 },
 "nbformat": 4,
 "nbformat_minor": 5
}
